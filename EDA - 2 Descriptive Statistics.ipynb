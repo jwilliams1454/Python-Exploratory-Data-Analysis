{
 "cells": [
  {
   "cell_type": "code",
   "execution_count": 3,
   "metadata": {},
   "outputs": [
    {
     "name": "stdout",
     "output_type": "stream",
     "text": [
      "C:\\Users\\jwill\\Documents\\Machine Learning\\Data\n"
     ]
    }
   ],
   "source": [
    "# Exploratory Data Analysis\n",
    "# Descriptive Statistics\n",
    "\n",
    "import pandas as pd\n",
    "import numpy as np\n",
    "import matplotlib.pyplot as plt\n",
    "import seaborn as sns\n",
    "%cd \"C:\\Users\\jwill\\Documents\\Machine Learning\\Data\""
   ]
  },
  {
   "cell_type": "code",
   "execution_count": 7,
   "metadata": {},
   "outputs": [
    {
     "data": {
      "text/html": [
       "<div>\n",
       "<style scoped>\n",
       "    .dataframe tbody tr th:only-of-type {\n",
       "        vertical-align: middle;\n",
       "    }\n",
       "\n",
       "    .dataframe tbody tr th {\n",
       "        vertical-align: top;\n",
       "    }\n",
       "\n",
       "    .dataframe thead th {\n",
       "        text-align: right;\n",
       "    }\n",
       "</style>\n",
       "<table border=\"1\" class=\"dataframe\">\n",
       "  <thead>\n",
       "    <tr style=\"text-align: right;\">\n",
       "      <th></th>\n",
       "      <th>name</th>\n",
       "      <th>subtitle</th>\n",
       "      <th>average_user_rating</th>\n",
       "      <th>user_rating_count</th>\n",
       "      <th>price</th>\n",
       "      <th>in-app_purchases</th>\n",
       "      <th>description</th>\n",
       "      <th>developer</th>\n",
       "      <th>age_rating</th>\n",
       "      <th>languages</th>\n",
       "      <th>size</th>\n",
       "      <th>primary_genre</th>\n",
       "      <th>genres</th>\n",
       "      <th>original_release_date</th>\n",
       "      <th>current_version_release_date</th>\n",
       "      <th>n_languages</th>\n",
       "    </tr>\n",
       "  </thead>\n",
       "  <tbody>\n",
       "    <tr>\n",
       "      <th>0</th>\n",
       "      <td>Sudoku</td>\n",
       "      <td>NaN</td>\n",
       "      <td>4.0</td>\n",
       "      <td>3553.0</td>\n",
       "      <td>2.99</td>\n",
       "      <td>NaN</td>\n",
       "      <td>Join over 21,000,000 of our fans and download ...</td>\n",
       "      <td>Mighty Mighty Good Games</td>\n",
       "      <td>4+</td>\n",
       "      <td>DA, NL, EN, FI, FR, DE, IT, JA, KO, NB, PL, PT...</td>\n",
       "      <td>15853568.0</td>\n",
       "      <td>Games</td>\n",
       "      <td>Games, Strategy, Puzzle</td>\n",
       "      <td>2008-11-07</td>\n",
       "      <td>2017-05-30</td>\n",
       "      <td>17</td>\n",
       "    </tr>\n",
       "    <tr>\n",
       "      <th>1</th>\n",
       "      <td>Reversi</td>\n",
       "      <td>NaN</td>\n",
       "      <td>3.5</td>\n",
       "      <td>284.0</td>\n",
       "      <td>1.99</td>\n",
       "      <td>NaN</td>\n",
       "      <td>The classic game of Reversi, also known as Oth...</td>\n",
       "      <td>Kiss The Machine</td>\n",
       "      <td>4+</td>\n",
       "      <td>EN</td>\n",
       "      <td>12328960.0</td>\n",
       "      <td>Games</td>\n",
       "      <td>Games, Strategy, Board</td>\n",
       "      <td>2008-11-07</td>\n",
       "      <td>2018-05-17</td>\n",
       "      <td>1</td>\n",
       "    </tr>\n",
       "    <tr>\n",
       "      <th>2</th>\n",
       "      <td>Morocco</td>\n",
       "      <td>NaN</td>\n",
       "      <td>3.0</td>\n",
       "      <td>8376.0</td>\n",
       "      <td>0.00</td>\n",
       "      <td>NaN</td>\n",
       "      <td>Play the classic strategy game Othello (also k...</td>\n",
       "      <td>Bayou Games</td>\n",
       "      <td>4+</td>\n",
       "      <td>EN</td>\n",
       "      <td>674816.0</td>\n",
       "      <td>Games</td>\n",
       "      <td>Games, Board, Strategy</td>\n",
       "      <td>2008-11-07</td>\n",
       "      <td>2017-05-09</td>\n",
       "      <td>1</td>\n",
       "    </tr>\n",
       "    <tr>\n",
       "      <th>3</th>\n",
       "      <td>Sudoku (Free)</td>\n",
       "      <td>NaN</td>\n",
       "      <td>3.5</td>\n",
       "      <td>190394.0</td>\n",
       "      <td>0.00</td>\n",
       "      <td>NaN</td>\n",
       "      <td>Top 100 free app for over a year.\\nRated \"Best...</td>\n",
       "      <td>Mighty Mighty Good Games</td>\n",
       "      <td>4+</td>\n",
       "      <td>DA, NL, EN, FI, FR, DE, IT, JA, KO, NB, PL, PT...</td>\n",
       "      <td>21552128.0</td>\n",
       "      <td>Games</td>\n",
       "      <td>Games, Strategy, Puzzle</td>\n",
       "      <td>2008-07-23</td>\n",
       "      <td>2017-05-30</td>\n",
       "      <td>17</td>\n",
       "    </tr>\n",
       "    <tr>\n",
       "      <th>4</th>\n",
       "      <td>Sudoku - Classic number puzzle</td>\n",
       "      <td>Original brain training</td>\n",
       "      <td>3.0</td>\n",
       "      <td>47.0</td>\n",
       "      <td>0.00</td>\n",
       "      <td>1.99</td>\n",
       "      <td>Sudoku will tease your brain, challenge you or...</td>\n",
       "      <td>OutOfTheBit Ltd</td>\n",
       "      <td>4+</td>\n",
       "      <td>EN</td>\n",
       "      <td>48672768.0</td>\n",
       "      <td>Games</td>\n",
       "      <td>Games, Entertainment, Strategy, Puzzle</td>\n",
       "      <td>2008-07-30</td>\n",
       "      <td>2019-04-29</td>\n",
       "      <td>1</td>\n",
       "    </tr>\n",
       "  </tbody>\n",
       "</table>\n",
       "</div>"
      ],
      "text/plain": [
       "                             name                 subtitle  \\\n",
       "0                          Sudoku                      NaN   \n",
       "1                         Reversi                      NaN   \n",
       "2                         Morocco                      NaN   \n",
       "3                   Sudoku (Free)                      NaN   \n",
       "4  Sudoku - Classic number puzzle  Original brain training   \n",
       "\n",
       "   average_user_rating  user_rating_count  price in-app_purchases  \\\n",
       "0                  4.0             3553.0   2.99              NaN   \n",
       "1                  3.5              284.0   1.99              NaN   \n",
       "2                  3.0             8376.0   0.00              NaN   \n",
       "3                  3.5           190394.0   0.00              NaN   \n",
       "4                  3.0               47.0   0.00             1.99   \n",
       "\n",
       "                                         description  \\\n",
       "0  Join over 21,000,000 of our fans and download ...   \n",
       "1  The classic game of Reversi, also known as Oth...   \n",
       "2  Play the classic strategy game Othello (also k...   \n",
       "3  Top 100 free app for over a year.\\nRated \"Best...   \n",
       "4  Sudoku will tease your brain, challenge you or...   \n",
       "\n",
       "                  developer age_rating  \\\n",
       "0  Mighty Mighty Good Games         4+   \n",
       "1          Kiss The Machine         4+   \n",
       "2               Bayou Games         4+   \n",
       "3  Mighty Mighty Good Games         4+   \n",
       "4           OutOfTheBit Ltd         4+   \n",
       "\n",
       "                                           languages        size  \\\n",
       "0  DA, NL, EN, FI, FR, DE, IT, JA, KO, NB, PL, PT...  15853568.0   \n",
       "1                                                 EN  12328960.0   \n",
       "2                                                 EN    674816.0   \n",
       "3  DA, NL, EN, FI, FR, DE, IT, JA, KO, NB, PL, PT...  21552128.0   \n",
       "4                                                 EN  48672768.0   \n",
       "\n",
       "  primary_genre                                  genres original_release_date  \\\n",
       "0         Games                 Games, Strategy, Puzzle            2008-11-07   \n",
       "1         Games                  Games, Strategy, Board            2008-11-07   \n",
       "2         Games                  Games, Board, Strategy            2008-11-07   \n",
       "3         Games                 Games, Strategy, Puzzle            2008-07-23   \n",
       "4         Games  Games, Entertainment, Strategy, Puzzle            2008-07-30   \n",
       "\n",
       "  current_version_release_date  n_languages  \n",
       "0                   2017-05-30           17  \n",
       "1                   2018-05-17            1  \n",
       "2                   2017-05-09            1  \n",
       "3                   2017-05-30           17  \n",
       "4                   2019-04-29            1  "
      ]
     },
     "execution_count": 7,
     "metadata": {},
     "output_type": "execute_result"
    }
   ],
   "source": [
    "# load data\n",
    "games = pd.read_csv('appstore_games2.csv')\n",
    "games.head()"
   ]
  },
  {
   "cell_type": "code",
   "execution_count": 8,
   "metadata": {},
   "outputs": [
    {
     "name": "stdout",
     "output_type": "stream",
     "text": [
      "4.0, 2.0, 4.0, 4.5, 5.0, 4.0, 4.0, 4.5, 3.0, 4.5, 4.5, 4.5, 4.5, 3.5, 1.5, 3.0, 4.0, 4.5, 4.0, 4.5, 3.5, 4.0, 4.5, 4.0, 5.0, 4.5, 4.5, 3.5, 4.5, 4.0, 4.0, 4.0, 4.0, 4.0, 4.0, 4.5, 3.0, 4.0, 3.5, 4.5, 3.5, 4.0, 4.5, 4.5, 5.0, 4.5, 4.5, 4.0, 4.0, 4.0, 4.0, 4.5, 4.5, 4.5, 3.5, 4.5, 4.0, 3.5, 4.5, 5.0, 4.5, 4.5, 4.5, 4.5, 3.0, 4.0, 4.0, 4.5, 4.5, 3.0, 4.5, 4.5, 4.5, 4.5, 4.0, 4.5, 4.5, 4.0, 4.5, 4.5, 4.0, 4.5, 4.0, 3.5, 4.5, 4.5, 4.0, 4.5, 3.5, 5.0, 4.5, 4.5, 4.5, 4.5, 4.5, 4.0, 4.0, 4.0, 5.0, 4.5, 5.0, 4.0, 3.0, 4.5, 4.5, 3.5, 4.5, 4.5, 4.5, 4.5, 4.5, 5.0, 3.5, 3.5, 4.5, 4.5, 3.5, 4.5, 3.0, 4.0, 5.0, 3.5, 4.5, 4.0, 4.5, 4.0, 4.5, 4.5, 4.5, 4.5, 4.5, 3.5, 4.5, 4.5, 3.5, 3.0, 3.5, 4.5, 4.0, 4.0, 4.0, 4.0, 3.5, 4.0, 4.5, 4.0, 4.5, 5.0, 3.5, 4.0, 4.0, 4.5, 3.0, 5.0, 4.5, 4.5, 4.5, 4.0, 4.5, 4.5, 4.0, 4.5, 4.0, 4.5, 4.5, 5.0, 3.5, 3.5, 5.0, 4.0, 4.5, 4.5, 4.5, 3.5, 4.0, 4.5, 2.5, 4.0, 4.5, 4.5, 4.0, 2.5, 5.0, 4.0, 4.0, 3.0, 4.5, 5.0, 5.0, 4.5, 5.0, 3.5, 4.5, 4.0, 3.5, 4.0, 3.5, 4.5, 4.0, 4.5, 4.0, 4.5, 4.0, 4.5, 4.5, 2.5, 4.5, 4.5, 4.0, 4.5, 3.0, 4.5, 4.5, 4.5, 4.5, 4.5, 4.5, 4.5, 4.5, 5.0, 4.5, 4.5, 4.0, 4.5, 4.0, 3.5, 4.0, 3.5, 3.0, 4.0, 4.0, 4.5, 3.5, 4.5, 4.0, 4.5, 3.5, 4.5, 4.5, 4.0, 4.0, 4.5, 4.5, 4.5, 4.0, 4.0, 5.0, 4.0, 4.5, 4.5, 5.0, 4.5, 4.5, 3.0, 4.0, 4.5, 4.5, 4.0, 4.5, 5.0, 4.5, 4.5, 2.5, 4.5, 3.5, 3.0, 3.0, 4.5, 4.0, 3.5, 4.0, 4.0, 4.5, 5.0, 4.0, 3.0, 4.5, 4.5, 4.5, 4.0, 4.0, 4.5, 4.5, 4.5, 5.0, 4.5, 4.5, 4.5, 4.5, 4.5, 4.5, 4.5, 4.0, 4.5, 2.5, 4.5, 4.5, 3.5, 4.5, 4.5, "
     ]
    }
   ],
   "source": [
    "# 1 How difficult it is to understand data by looking at it\n",
    "\n",
    "random_ratings = games['average_user_rating'].sample(n=300)\n",
    "for r in random_ratings:\n",
    "    print(r, end=', ')"
   ]
  },
  {
   "cell_type": "code",
   "execution_count": 21,
   "metadata": {},
   "outputs": [
    {
     "data": {
      "text/plain": [
       "0.25    4.0\n",
       "0.50    4.5\n",
       "0.75    4.5\n",
       "Name: average_user_rating, dtype: float64"
      ]
     },
     "execution_count": 21,
     "metadata": {},
     "output_type": "execute_result"
    }
   ],
   "source": [
    "# Mean = 4.35 (actual 4.17) off by less than .2\n",
    "# SD = .55 (actual .56612) off by less than .02\n",
    "# Longer to left, shorter to right\n",
    "\n",
    "random_ratings.std()\n",
    "random_ratings.mean()\n",
    "random_ratings.quantile([0.25, 0.5, 0.75])"
   ]
  },
  {
   "cell_type": "code",
   "execution_count": 14,
   "metadata": {},
   "outputs": [],
   "source": [
    "# 2 Basic Statistics\n",
    "\n",
    "mens_heights = pd.Series\\\n",
    "               ([1.68, 1.83, 1.75, 1.8, 1.88, 1.8, 1.89, 1.84,\\\n",
    "                 1.9, 1.65, 1.67,1.62, 1.81, 1.73, 1.84, 1.78,\\\n",
    "                 1.76, 1.97, 1.81, 1.75, 1.65, 1.87, 1.85, 1.64])"
   ]
  },
  {
   "cell_type": "code",
   "execution_count": 15,
   "metadata": {},
   "outputs": [
    {
     "data": {
      "text/plain": [
       "1.7820833333333335"
      ]
     },
     "execution_count": 15,
     "metadata": {},
     "output_type": "execute_result"
    }
   ],
   "source": [
    "# Mean\n",
    "mens_heights.mean()"
   ]
  },
  {
   "cell_type": "code",
   "execution_count": 16,
   "metadata": {},
   "outputs": [
    {
     "data": {
      "text/plain": [
       "0.09408502938099766"
      ]
     },
     "execution_count": 16,
     "metadata": {},
     "output_type": "execute_result"
    }
   ],
   "source": [
    "# Standard Deviation\n",
    "mens_heights.std()"
   ]
  },
  {
   "cell_type": "code",
   "execution_count": 20,
   "metadata": {},
   "outputs": [
    {
     "data": {
      "text/plain": [
       "0.25    1.7175\n",
       "0.50    1.8000\n",
       "0.75    1.8425\n",
       "dtype: float64"
      ]
     },
     "execution_count": 20,
     "metadata": {},
     "output_type": "execute_result"
    }
   ],
   "source": [
    "# Quantiles: 25%, 50%, 75%\n",
    "mens_heights.quantile([0.25, 0.5, 0.75])"
   ]
  },
  {
   "cell_type": "code",
   "execution_count": 22,
   "metadata": {},
   "outputs": [
    {
     "data": {
      "text/plain": [
       "0.33    1.750\n",
       "0.80    1.858\n",
       "dtype: float64"
      ]
     },
     "execution_count": 22,
     "metadata": {},
     "output_type": "execute_result"
    }
   ],
   "source": [
    "# Quantiles: 33% and 80%\n",
    "mens_heights.quantile([0.33, 0.80])"
   ]
  },
  {
   "cell_type": "code",
   "execution_count": 23,
   "metadata": {},
   "outputs": [
    {
     "data": {
      "text/plain": [
       "0     False\n",
       "1      True\n",
       "2     False\n",
       "3      True\n",
       "4      True\n",
       "5      True\n",
       "6      True\n",
       "7      True\n",
       "8      True\n",
       "9     False\n",
       "10    False\n",
       "11    False\n",
       "12     True\n",
       "13    False\n",
       "14     True\n",
       "15    False\n",
       "16    False\n",
       "17     True\n",
       "18     True\n",
       "19    False\n",
       "20    False\n",
       "21     True\n",
       "22     True\n",
       "23    False\n",
       "dtype: bool"
      ]
     },
     "execution_count": 23,
     "metadata": {},
     "output_type": "execute_result"
    }
   ],
   "source": [
    "# satisfies conditional\n",
    "mens_heights >= 1.8"
   ]
  },
  {
   "cell_type": "code",
   "execution_count": 24,
   "metadata": {},
   "outputs": [
    {
     "data": {
      "text/plain": [
       "0.5416666666666666"
      ]
     },
     "execution_count": 24,
     "metadata": {},
     "output_type": "execute_result"
    }
   ],
   "source": [
    "# Percent that satisfies conditional\n",
    "\n",
    "# sum of True (1) divided by total\n",
    "(mens_heights >= 1.8).sum()/mens_heights.shape[0]"
   ]
  },
  {
   "cell_type": "code",
   "execution_count": 25,
   "metadata": {},
   "outputs": [
    {
     "data": {
      "text/plain": [
       "0.5416666666666666"
      ]
     },
     "execution_count": 25,
     "metadata": {},
     "output_type": "execute_result"
    }
   ],
   "source": [
    "# Alternate method\n",
    "(mens_heights >= 1.8).mean()"
   ]
  },
  {
   "cell_type": "code",
   "execution_count": 26,
   "metadata": {},
   "outputs": [
    {
     "data": {
      "text/html": [
       "<div>\n",
       "<style scoped>\n",
       "    .dataframe tbody tr th:only-of-type {\n",
       "        vertical-align: middle;\n",
       "    }\n",
       "\n",
       "    .dataframe tbody tr th {\n",
       "        vertical-align: top;\n",
       "    }\n",
       "\n",
       "    .dataframe thead th {\n",
       "        text-align: right;\n",
       "    }\n",
       "</style>\n",
       "<table border=\"1\" class=\"dataframe\">\n",
       "  <thead>\n",
       "    <tr style=\"text-align: right;\">\n",
       "      <th></th>\n",
       "      <th>average_user_rating</th>\n",
       "      <th>user_rating_count</th>\n",
       "      <th>price</th>\n",
       "      <th>size</th>\n",
       "      <th>n_languages</th>\n",
       "    </tr>\n",
       "  </thead>\n",
       "  <tbody>\n",
       "    <tr>\n",
       "      <th>count</th>\n",
       "      <td>4311.000000</td>\n",
       "      <td>4.311000e+03</td>\n",
       "      <td>4311.000000</td>\n",
       "      <td>4.311000e+03</td>\n",
       "      <td>4311.000000</td>\n",
       "    </tr>\n",
       "    <tr>\n",
       "      <th>mean</th>\n",
       "      <td>4.163535</td>\n",
       "      <td>5.789754e+03</td>\n",
       "      <td>0.677878</td>\n",
       "      <td>1.759569e+08</td>\n",
       "      <td>4.527024</td>\n",
       "    </tr>\n",
       "    <tr>\n",
       "      <th>std</th>\n",
       "      <td>0.596239</td>\n",
       "      <td>5.592425e+04</td>\n",
       "      <td>2.910916</td>\n",
       "      <td>2.866278e+08</td>\n",
       "      <td>7.106231</td>\n",
       "    </tr>\n",
       "    <tr>\n",
       "      <th>min</th>\n",
       "      <td>1.500000</td>\n",
       "      <td>3.000000e+01</td>\n",
       "      <td>0.000000</td>\n",
       "      <td>2.158400e+05</td>\n",
       "      <td>1.000000</td>\n",
       "    </tr>\n",
       "    <tr>\n",
       "      <th>25%</th>\n",
       "      <td>4.000000</td>\n",
       "      <td>7.000000e+01</td>\n",
       "      <td>0.000000</td>\n",
       "      <td>4.073626e+07</td>\n",
       "      <td>1.000000</td>\n",
       "    </tr>\n",
       "    <tr>\n",
       "      <th>50%</th>\n",
       "      <td>4.500000</td>\n",
       "      <td>2.210000e+02</td>\n",
       "      <td>0.000000</td>\n",
       "      <td>9.730048e+07</td>\n",
       "      <td>1.000000</td>\n",
       "    </tr>\n",
       "    <tr>\n",
       "      <th>75%</th>\n",
       "      <td>4.500000</td>\n",
       "      <td>1.192000e+03</td>\n",
       "      <td>0.000000</td>\n",
       "      <td>2.085176e+08</td>\n",
       "      <td>5.000000</td>\n",
       "    </tr>\n",
       "    <tr>\n",
       "      <th>max</th>\n",
       "      <td>5.000000</td>\n",
       "      <td>3.032734e+06</td>\n",
       "      <td>139.990000</td>\n",
       "      <td>4.005591e+09</td>\n",
       "      <td>111.000000</td>\n",
       "    </tr>\n",
       "  </tbody>\n",
       "</table>\n",
       "</div>"
      ],
      "text/plain": [
       "       average_user_rating  user_rating_count        price          size  \\\n",
       "count          4311.000000       4.311000e+03  4311.000000  4.311000e+03   \n",
       "mean              4.163535       5.789754e+03     0.677878  1.759569e+08   \n",
       "std               0.596239       5.592425e+04     2.910916  2.866278e+08   \n",
       "min               1.500000       3.000000e+01     0.000000  2.158400e+05   \n",
       "25%               4.000000       7.000000e+01     0.000000  4.073626e+07   \n",
       "50%               4.500000       2.210000e+02     0.000000  9.730048e+07   \n",
       "75%               4.500000       1.192000e+03     0.000000  2.085176e+08   \n",
       "max               5.000000       3.032734e+06   139.990000  4.005591e+09   \n",
       "\n",
       "       n_languages  \n",
       "count  4311.000000  \n",
       "mean      4.527024  \n",
       "std       7.106231  \n",
       "min       1.000000  \n",
       "25%       1.000000  \n",
       "50%       1.000000  \n",
       "75%       5.000000  \n",
       "max     111.000000  "
      ]
     },
     "execution_count": 26,
     "metadata": {},
     "output_type": "execute_result"
    }
   ],
   "source": [
    "# 3 Descriptive Statistics\n",
    "\n",
    "games.describe()"
   ]
  },
  {
   "cell_type": "code",
   "execution_count": 28,
   "metadata": {},
   "outputs": [
    {
     "data": {
      "text/plain": [
       "944     3032734.0\n",
       "2586    1277095.0\n",
       "3756     711409.0\n",
       "1226     469562.0\n",
       "2828     439776.0\n",
       "1454     400787.0\n",
       "3598     374772.0\n",
       "2938     283035.0\n",
       "32       273687.0\n",
       "1812     259030.0\n",
       "Name: user_rating_count, dtype: float64"
      ]
     },
     "execution_count": 28,
     "metadata": {},
     "output_type": "execute_result"
    }
   ],
   "source": [
    "# looking at rating count data\n",
    "# 10 most rated games (highest game count)\n",
    "games['user_rating_count'].sort_values(ascending=False).head(10)"
   ]
  },
  {
   "cell_type": "code",
   "execution_count": 29,
   "metadata": {},
   "outputs": [
    {
     "data": {
      "text/plain": [
       "40"
      ]
     },
     "execution_count": 29,
     "metadata": {},
     "output_type": "execute_result"
    }
   ],
   "source": [
    "# number of games with more than 100K ratings\n",
    "(games['user_rating_count'] >= 100000).sum()"
   ]
  },
  {
   "cell_type": "code",
   "execution_count": 30,
   "metadata": {},
   "outputs": [
    {
     "data": {
      "text/plain": [
       "count    4311.000000\n",
       "mean        4.163535\n",
       "std         0.596239\n",
       "min         1.500000\n",
       "25%         4.000000\n",
       "50%         4.500000\n",
       "75%         4.500000\n",
       "max         5.000000\n",
       "Name: average_user_rating, dtype: float64"
      ]
     },
     "execution_count": 30,
     "metadata": {},
     "output_type": "execute_result"
    }
   ],
   "source": [
    "# Looking at 'average user rating' data\n",
    "games['average_user_rating'].describe()"
   ]
  },
  {
   "cell_type": "code",
   "execution_count": 31,
   "metadata": {},
   "outputs": [
    {
     "name": "stdout",
     "output_type": "stream",
     "text": [
      "The number of games with an average rating of 4.5 is 2062, which represents a proportion of 0.478 or 47.8%\n"
     ]
    }
   ],
   "source": [
    "# the number and the proportion of games with a rating of exactly 4.5. \n",
    "\n",
    "ratings_of_4_5 = (games['average_user_rating'] == 4.5).sum()\n",
    "proportion_of_ratings_4_5 = (games['average_user_rating'] == 4.5)\\\n",
    "                            .mean()\n",
    "print(f'''The number of games with an average rating of 4.5 is \\\n",
    "{ratings_of_4_5}, \\\n",
    "which represents a proportion of {proportion_of_ratings_4_5:.3f} or \\\n",
    "{100*proportion_of_ratings_4_5:.1f}%''')"
   ]
  },
  {
   "cell_type": "code",
   "execution_count": 32,
   "metadata": {},
   "outputs": [
    {
     "data": {
      "text/plain": [
       "array([4. , 3.5, 3. , 2.5, 2. , 4.5, 5. , 1.5])"
      ]
     },
     "execution_count": 32,
     "metadata": {},
     "output_type": "execute_result"
    }
   ],
   "source": [
    "# Unique values of average user ratings\n",
    "\n",
    "games['average_user_rating'].unique()"
   ]
  },
  {
   "cell_type": "code",
   "execution_count": 33,
   "metadata": {},
   "outputs": [],
   "source": []
  },
  {
   "cell_type": "code",
   "execution_count": null,
   "metadata": {},
   "outputs": [],
   "source": []
  }
 ],
 "metadata": {
  "kernelspec": {
   "display_name": "Python 3",
   "language": "python",
   "name": "python3"
  },
  "language_info": {
   "codemirror_mode": {
    "name": "ipython",
    "version": 3
   },
   "file_extension": ".py",
   "mimetype": "text/x-python",
   "name": "python",
   "nbconvert_exporter": "python",
   "pygments_lexer": "ipython3",
   "version": "3.8.5"
  }
 },
 "nbformat": 4,
 "nbformat_minor": 4
}
