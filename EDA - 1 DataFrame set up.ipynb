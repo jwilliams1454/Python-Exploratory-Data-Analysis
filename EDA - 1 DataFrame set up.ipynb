{
 "cells": [
  {
   "cell_type": "code",
   "execution_count": 2,
   "metadata": {},
   "outputs": [
    {
     "name": "stdout",
     "output_type": "stream",
     "text": [
      "C:\\Users\\jwill\\Documents\\Machine Learning\\Data\n"
     ]
    }
   ],
   "source": [
    "# Exploratory Data Analysis\n",
    "# Setting up dataframe for analysis \n",
    "\n",
    "import pandas as pd\n",
    "import numpy as np\n",
    "import matplotlib.pyplot as plt\n",
    "import seaborn as sns\n",
    "# line to allow the plots to be shown in the Jupyter Notebook\n",
    "%matplotlib inline\n",
    "%cd \"C:\\Users\\jwill\\Documents\\Machine Learning\\Data\""
   ]
  },
  {
   "cell_type": "code",
   "execution_count": 3,
   "metadata": {},
   "outputs": [],
   "source": [
    "# load data\n",
    "games = pd.read_csv('appstore_games.csv')"
   ]
  },
  {
   "cell_type": "code",
   "execution_count": 4,
   "metadata": {},
   "outputs": [
    {
     "data": {
      "text/plain": [
       "(17007, 18)"
      ]
     },
     "execution_count": 4,
     "metadata": {},
     "output_type": "execute_result"
    }
   ],
   "source": [
    "games.shape"
   ]
  },
  {
   "cell_type": "code",
   "execution_count": 5,
   "metadata": {},
   "outputs": [
    {
     "data": {
      "text/html": [
       "<div>\n",
       "<style scoped>\n",
       "    .dataframe tbody tr th:only-of-type {\n",
       "        vertical-align: middle;\n",
       "    }\n",
       "\n",
       "    .dataframe tbody tr th {\n",
       "        vertical-align: top;\n",
       "    }\n",
       "\n",
       "    .dataframe thead th {\n",
       "        text-align: right;\n",
       "    }\n",
       "</style>\n",
       "<table border=\"1\" class=\"dataframe\">\n",
       "  <thead>\n",
       "    <tr style=\"text-align: right;\">\n",
       "      <th></th>\n",
       "      <th>URL</th>\n",
       "      <th>ID</th>\n",
       "      <th>Name</th>\n",
       "      <th>Subtitle</th>\n",
       "      <th>Icon URL</th>\n",
       "      <th>Average User Rating</th>\n",
       "      <th>User Rating Count</th>\n",
       "      <th>Price</th>\n",
       "      <th>In-app Purchases</th>\n",
       "      <th>Description</th>\n",
       "      <th>Developer</th>\n",
       "      <th>Age Rating</th>\n",
       "      <th>Languages</th>\n",
       "      <th>Size</th>\n",
       "      <th>Primary Genre</th>\n",
       "      <th>Genres</th>\n",
       "      <th>Original Release Date</th>\n",
       "      <th>Current Version Release Date</th>\n",
       "    </tr>\n",
       "  </thead>\n",
       "  <tbody>\n",
       "    <tr>\n",
       "      <th>0</th>\n",
       "      <td>https://apps.apple.com/us/app/sudoku/id284921427</td>\n",
       "      <td>284921427</td>\n",
       "      <td>Sudoku</td>\n",
       "      <td>NaN</td>\n",
       "      <td>https://is2-ssl.mzstatic.com/image/thumb/Purpl...</td>\n",
       "      <td>4.0</td>\n",
       "      <td>3553.0</td>\n",
       "      <td>2.99</td>\n",
       "      <td>NaN</td>\n",
       "      <td>Join over 21,000,000 of our fans and download ...</td>\n",
       "      <td>Mighty Mighty Good Games</td>\n",
       "      <td>4+</td>\n",
       "      <td>DA, NL, EN, FI, FR, DE, IT, JA, KO, NB, PL, PT...</td>\n",
       "      <td>15853568.0</td>\n",
       "      <td>Games</td>\n",
       "      <td>Games, Strategy, Puzzle</td>\n",
       "      <td>11/07/2008</td>\n",
       "      <td>30/05/2017</td>\n",
       "    </tr>\n",
       "    <tr>\n",
       "      <th>1</th>\n",
       "      <td>https://apps.apple.com/us/app/reversi/id284926400</td>\n",
       "      <td>284926400</td>\n",
       "      <td>Reversi</td>\n",
       "      <td>NaN</td>\n",
       "      <td>https://is4-ssl.mzstatic.com/image/thumb/Purpl...</td>\n",
       "      <td>3.5</td>\n",
       "      <td>284.0</td>\n",
       "      <td>1.99</td>\n",
       "      <td>NaN</td>\n",
       "      <td>The classic game of Reversi, also known as Oth...</td>\n",
       "      <td>Kiss The Machine</td>\n",
       "      <td>4+</td>\n",
       "      <td>EN</td>\n",
       "      <td>12328960.0</td>\n",
       "      <td>Games</td>\n",
       "      <td>Games, Strategy, Board</td>\n",
       "      <td>11/07/2008</td>\n",
       "      <td>17/05/2018</td>\n",
       "    </tr>\n",
       "    <tr>\n",
       "      <th>2</th>\n",
       "      <td>https://apps.apple.com/us/app/morocco/id284946595</td>\n",
       "      <td>284946595</td>\n",
       "      <td>Morocco</td>\n",
       "      <td>NaN</td>\n",
       "      <td>https://is5-ssl.mzstatic.com/image/thumb/Purpl...</td>\n",
       "      <td>3.0</td>\n",
       "      <td>8376.0</td>\n",
       "      <td>0.00</td>\n",
       "      <td>NaN</td>\n",
       "      <td>Play the classic strategy game Othello (also k...</td>\n",
       "      <td>Bayou Games</td>\n",
       "      <td>4+</td>\n",
       "      <td>EN</td>\n",
       "      <td>674816.0</td>\n",
       "      <td>Games</td>\n",
       "      <td>Games, Board, Strategy</td>\n",
       "      <td>11/07/2008</td>\n",
       "      <td>5/09/2017</td>\n",
       "    </tr>\n",
       "    <tr>\n",
       "      <th>3</th>\n",
       "      <td>https://apps.apple.com/us/app/sudoku-free/id28...</td>\n",
       "      <td>285755462</td>\n",
       "      <td>Sudoku (Free)</td>\n",
       "      <td>NaN</td>\n",
       "      <td>https://is3-ssl.mzstatic.com/image/thumb/Purpl...</td>\n",
       "      <td>3.5</td>\n",
       "      <td>190394.0</td>\n",
       "      <td>0.00</td>\n",
       "      <td>NaN</td>\n",
       "      <td>Top 100 free app for over a year.\\nRated \"Best...</td>\n",
       "      <td>Mighty Mighty Good Games</td>\n",
       "      <td>4+</td>\n",
       "      <td>DA, NL, EN, FI, FR, DE, IT, JA, KO, NB, PL, PT...</td>\n",
       "      <td>21552128.0</td>\n",
       "      <td>Games</td>\n",
       "      <td>Games, Strategy, Puzzle</td>\n",
       "      <td>23/07/2008</td>\n",
       "      <td>30/05/2017</td>\n",
       "    </tr>\n",
       "    <tr>\n",
       "      <th>4</th>\n",
       "      <td>https://apps.apple.com/us/app/senet-deluxe/id2...</td>\n",
       "      <td>285831220</td>\n",
       "      <td>Senet Deluxe</td>\n",
       "      <td>NaN</td>\n",
       "      <td>https://is1-ssl.mzstatic.com/image/thumb/Purpl...</td>\n",
       "      <td>3.5</td>\n",
       "      <td>28.0</td>\n",
       "      <td>2.99</td>\n",
       "      <td>NaN</td>\n",
       "      <td>\"Senet Deluxe - The Ancient Game of Life and A...</td>\n",
       "      <td>RoGame Software</td>\n",
       "      <td>4+</td>\n",
       "      <td>DA, NL, EN, FR, DE, EL, IT, JA, KO, NO, PT, RU...</td>\n",
       "      <td>34689024.0</td>\n",
       "      <td>Games</td>\n",
       "      <td>Games, Strategy, Board, Education</td>\n",
       "      <td>18/07/2008</td>\n",
       "      <td>22/07/2018</td>\n",
       "    </tr>\n",
       "  </tbody>\n",
       "</table>\n",
       "</div>"
      ],
      "text/plain": [
       "                                                 URL         ID  \\\n",
       "0   https://apps.apple.com/us/app/sudoku/id284921427  284921427   \n",
       "1  https://apps.apple.com/us/app/reversi/id284926400  284926400   \n",
       "2  https://apps.apple.com/us/app/morocco/id284946595  284946595   \n",
       "3  https://apps.apple.com/us/app/sudoku-free/id28...  285755462   \n",
       "4  https://apps.apple.com/us/app/senet-deluxe/id2...  285831220   \n",
       "\n",
       "            Name Subtitle                                           Icon URL  \\\n",
       "0         Sudoku      NaN  https://is2-ssl.mzstatic.com/image/thumb/Purpl...   \n",
       "1        Reversi      NaN  https://is4-ssl.mzstatic.com/image/thumb/Purpl...   \n",
       "2        Morocco      NaN  https://is5-ssl.mzstatic.com/image/thumb/Purpl...   \n",
       "3  Sudoku (Free)      NaN  https://is3-ssl.mzstatic.com/image/thumb/Purpl...   \n",
       "4   Senet Deluxe      NaN  https://is1-ssl.mzstatic.com/image/thumb/Purpl...   \n",
       "\n",
       "   Average User Rating  User Rating Count  Price In-app Purchases  \\\n",
       "0                  4.0             3553.0   2.99              NaN   \n",
       "1                  3.5              284.0   1.99              NaN   \n",
       "2                  3.0             8376.0   0.00              NaN   \n",
       "3                  3.5           190394.0   0.00              NaN   \n",
       "4                  3.5               28.0   2.99              NaN   \n",
       "\n",
       "                                         Description  \\\n",
       "0  Join over 21,000,000 of our fans and download ...   \n",
       "1  The classic game of Reversi, also known as Oth...   \n",
       "2  Play the classic strategy game Othello (also k...   \n",
       "3  Top 100 free app for over a year.\\nRated \"Best...   \n",
       "4  \"Senet Deluxe - The Ancient Game of Life and A...   \n",
       "\n",
       "                  Developer Age Rating  \\\n",
       "0  Mighty Mighty Good Games         4+   \n",
       "1          Kiss The Machine         4+   \n",
       "2               Bayou Games         4+   \n",
       "3  Mighty Mighty Good Games         4+   \n",
       "4           RoGame Software         4+   \n",
       "\n",
       "                                           Languages        Size  \\\n",
       "0  DA, NL, EN, FI, FR, DE, IT, JA, KO, NB, PL, PT...  15853568.0   \n",
       "1                                                 EN  12328960.0   \n",
       "2                                                 EN    674816.0   \n",
       "3  DA, NL, EN, FI, FR, DE, IT, JA, KO, NB, PL, PT...  21552128.0   \n",
       "4  DA, NL, EN, FR, DE, EL, IT, JA, KO, NO, PT, RU...  34689024.0   \n",
       "\n",
       "  Primary Genre                             Genres Original Release Date  \\\n",
       "0         Games            Games, Strategy, Puzzle            11/07/2008   \n",
       "1         Games             Games, Strategy, Board            11/07/2008   \n",
       "2         Games             Games, Board, Strategy            11/07/2008   \n",
       "3         Games            Games, Strategy, Puzzle            23/07/2008   \n",
       "4         Games  Games, Strategy, Board, Education            18/07/2008   \n",
       "\n",
       "  Current Version Release Date  \n",
       "0                   30/05/2017  \n",
       "1                   17/05/2018  \n",
       "2                    5/09/2017  \n",
       "3                   30/05/2017  \n",
       "4                   22/07/2018  "
      ]
     },
     "execution_count": 5,
     "metadata": {},
     "output_type": "execute_result"
    }
   ],
   "source": [
    "games.head()"
   ]
  },
  {
   "cell_type": "code",
   "execution_count": 6,
   "metadata": {},
   "outputs": [
    {
     "data": {
      "text/plain": [
       "{'URL': 'url',\n",
       " 'ID': 'id',\n",
       " 'Name': 'name',\n",
       " 'Subtitle': 'subtitle',\n",
       " 'Icon URL': 'icon_url',\n",
       " 'Average User Rating': 'average_user_rating',\n",
       " 'User Rating Count': 'user_rating_count',\n",
       " 'Price': 'price',\n",
       " 'In-app Purchases': 'in-app_purchases',\n",
       " 'Description': 'description',\n",
       " 'Developer': 'developer',\n",
       " 'Age Rating': 'age_rating',\n",
       " 'Languages': 'languages',\n",
       " 'Size': 'size',\n",
       " 'Primary Genre': 'primary_genre',\n",
       " 'Genres': 'genres',\n",
       " 'Original Release Date': 'original_release_date',\n",
       " 'Current Version Release Date': 'current_version_release_date'}"
      ]
     },
     "execution_count": 6,
     "metadata": {},
     "output_type": "execute_result"
    }
   ],
   "source": [
    "# standardize names in dataframe\n",
    "# lowercase, no blank space\n",
    "original_colums_dict = {x: x.lower().replace(' ','_') \\\n",
    "                        for x in games.columns}\n",
    "original_colums_dict "
   ]
  },
  {
   "cell_type": "code",
   "execution_count": 7,
   "metadata": {},
   "outputs": [],
   "source": [
    "# change column names\n",
    "games.rename(columns = original_colums_dict,\\\n",
    "             inplace = True)"
   ]
  },
  {
   "cell_type": "code",
   "execution_count": 8,
   "metadata": {},
   "outputs": [
    {
     "data": {
      "text/html": [
       "<div>\n",
       "<style scoped>\n",
       "    .dataframe tbody tr th:only-of-type {\n",
       "        vertical-align: middle;\n",
       "    }\n",
       "\n",
       "    .dataframe tbody tr th {\n",
       "        vertical-align: top;\n",
       "    }\n",
       "\n",
       "    .dataframe thead th {\n",
       "        text-align: right;\n",
       "    }\n",
       "</style>\n",
       "<table border=\"1\" class=\"dataframe\">\n",
       "  <thead>\n",
       "    <tr style=\"text-align: right;\">\n",
       "      <th></th>\n",
       "      <th>url</th>\n",
       "      <th>name</th>\n",
       "      <th>subtitle</th>\n",
       "      <th>icon_url</th>\n",
       "      <th>average_user_rating</th>\n",
       "      <th>user_rating_count</th>\n",
       "      <th>price</th>\n",
       "      <th>in-app_purchases</th>\n",
       "      <th>description</th>\n",
       "      <th>developer</th>\n",
       "      <th>age_rating</th>\n",
       "      <th>languages</th>\n",
       "      <th>size</th>\n",
       "      <th>primary_genre</th>\n",
       "      <th>genres</th>\n",
       "      <th>original_release_date</th>\n",
       "      <th>current_version_release_date</th>\n",
       "    </tr>\n",
       "    <tr>\n",
       "      <th>id</th>\n",
       "      <th></th>\n",
       "      <th></th>\n",
       "      <th></th>\n",
       "      <th></th>\n",
       "      <th></th>\n",
       "      <th></th>\n",
       "      <th></th>\n",
       "      <th></th>\n",
       "      <th></th>\n",
       "      <th></th>\n",
       "      <th></th>\n",
       "      <th></th>\n",
       "      <th></th>\n",
       "      <th></th>\n",
       "      <th></th>\n",
       "      <th></th>\n",
       "      <th></th>\n",
       "    </tr>\n",
       "  </thead>\n",
       "  <tbody>\n",
       "    <tr>\n",
       "      <th>284921427</th>\n",
       "      <td>https://apps.apple.com/us/app/sudoku/id284921427</td>\n",
       "      <td>Sudoku</td>\n",
       "      <td>NaN</td>\n",
       "      <td>https://is2-ssl.mzstatic.com/image/thumb/Purpl...</td>\n",
       "      <td>4.0</td>\n",
       "      <td>3553.0</td>\n",
       "      <td>2.99</td>\n",
       "      <td>NaN</td>\n",
       "      <td>Join over 21,000,000 of our fans and download ...</td>\n",
       "      <td>Mighty Mighty Good Games</td>\n",
       "      <td>4+</td>\n",
       "      <td>DA, NL, EN, FI, FR, DE, IT, JA, KO, NB, PL, PT...</td>\n",
       "      <td>15853568.0</td>\n",
       "      <td>Games</td>\n",
       "      <td>Games, Strategy, Puzzle</td>\n",
       "      <td>11/07/2008</td>\n",
       "      <td>30/05/2017</td>\n",
       "    </tr>\n",
       "    <tr>\n",
       "      <th>284926400</th>\n",
       "      <td>https://apps.apple.com/us/app/reversi/id284926400</td>\n",
       "      <td>Reversi</td>\n",
       "      <td>NaN</td>\n",
       "      <td>https://is4-ssl.mzstatic.com/image/thumb/Purpl...</td>\n",
       "      <td>3.5</td>\n",
       "      <td>284.0</td>\n",
       "      <td>1.99</td>\n",
       "      <td>NaN</td>\n",
       "      <td>The classic game of Reversi, also known as Oth...</td>\n",
       "      <td>Kiss The Machine</td>\n",
       "      <td>4+</td>\n",
       "      <td>EN</td>\n",
       "      <td>12328960.0</td>\n",
       "      <td>Games</td>\n",
       "      <td>Games, Strategy, Board</td>\n",
       "      <td>11/07/2008</td>\n",
       "      <td>17/05/2018</td>\n",
       "    </tr>\n",
       "    <tr>\n",
       "      <th>284946595</th>\n",
       "      <td>https://apps.apple.com/us/app/morocco/id284946595</td>\n",
       "      <td>Morocco</td>\n",
       "      <td>NaN</td>\n",
       "      <td>https://is5-ssl.mzstatic.com/image/thumb/Purpl...</td>\n",
       "      <td>3.0</td>\n",
       "      <td>8376.0</td>\n",
       "      <td>0.00</td>\n",
       "      <td>NaN</td>\n",
       "      <td>Play the classic strategy game Othello (also k...</td>\n",
       "      <td>Bayou Games</td>\n",
       "      <td>4+</td>\n",
       "      <td>EN</td>\n",
       "      <td>674816.0</td>\n",
       "      <td>Games</td>\n",
       "      <td>Games, Board, Strategy</td>\n",
       "      <td>11/07/2008</td>\n",
       "      <td>5/09/2017</td>\n",
       "    </tr>\n",
       "    <tr>\n",
       "      <th>285755462</th>\n",
       "      <td>https://apps.apple.com/us/app/sudoku-free/id28...</td>\n",
       "      <td>Sudoku (Free)</td>\n",
       "      <td>NaN</td>\n",
       "      <td>https://is3-ssl.mzstatic.com/image/thumb/Purpl...</td>\n",
       "      <td>3.5</td>\n",
       "      <td>190394.0</td>\n",
       "      <td>0.00</td>\n",
       "      <td>NaN</td>\n",
       "      <td>Top 100 free app for over a year.\\nRated \"Best...</td>\n",
       "      <td>Mighty Mighty Good Games</td>\n",
       "      <td>4+</td>\n",
       "      <td>DA, NL, EN, FI, FR, DE, IT, JA, KO, NB, PL, PT...</td>\n",
       "      <td>21552128.0</td>\n",
       "      <td>Games</td>\n",
       "      <td>Games, Strategy, Puzzle</td>\n",
       "      <td>23/07/2008</td>\n",
       "      <td>30/05/2017</td>\n",
       "    </tr>\n",
       "    <tr>\n",
       "      <th>285831220</th>\n",
       "      <td>https://apps.apple.com/us/app/senet-deluxe/id2...</td>\n",
       "      <td>Senet Deluxe</td>\n",
       "      <td>NaN</td>\n",
       "      <td>https://is1-ssl.mzstatic.com/image/thumb/Purpl...</td>\n",
       "      <td>3.5</td>\n",
       "      <td>28.0</td>\n",
       "      <td>2.99</td>\n",
       "      <td>NaN</td>\n",
       "      <td>\"Senet Deluxe - The Ancient Game of Life and A...</td>\n",
       "      <td>RoGame Software</td>\n",
       "      <td>4+</td>\n",
       "      <td>DA, NL, EN, FR, DE, EL, IT, JA, KO, NO, PT, RU...</td>\n",
       "      <td>34689024.0</td>\n",
       "      <td>Games</td>\n",
       "      <td>Games, Strategy, Board, Education</td>\n",
       "      <td>18/07/2008</td>\n",
       "      <td>22/07/2018</td>\n",
       "    </tr>\n",
       "  </tbody>\n",
       "</table>\n",
       "</div>"
      ],
      "text/plain": [
       "                                                         url           name  \\\n",
       "id                                                                            \n",
       "284921427   https://apps.apple.com/us/app/sudoku/id284921427         Sudoku   \n",
       "284926400  https://apps.apple.com/us/app/reversi/id284926400        Reversi   \n",
       "284946595  https://apps.apple.com/us/app/morocco/id284946595        Morocco   \n",
       "285755462  https://apps.apple.com/us/app/sudoku-free/id28...  Sudoku (Free)   \n",
       "285831220  https://apps.apple.com/us/app/senet-deluxe/id2...   Senet Deluxe   \n",
       "\n",
       "          subtitle                                           icon_url  \\\n",
       "id                                                                      \n",
       "284921427      NaN  https://is2-ssl.mzstatic.com/image/thumb/Purpl...   \n",
       "284926400      NaN  https://is4-ssl.mzstatic.com/image/thumb/Purpl...   \n",
       "284946595      NaN  https://is5-ssl.mzstatic.com/image/thumb/Purpl...   \n",
       "285755462      NaN  https://is3-ssl.mzstatic.com/image/thumb/Purpl...   \n",
       "285831220      NaN  https://is1-ssl.mzstatic.com/image/thumb/Purpl...   \n",
       "\n",
       "           average_user_rating  user_rating_count  price in-app_purchases  \\\n",
       "id                                                                          \n",
       "284921427                  4.0             3553.0   2.99              NaN   \n",
       "284926400                  3.5              284.0   1.99              NaN   \n",
       "284946595                  3.0             8376.0   0.00              NaN   \n",
       "285755462                  3.5           190394.0   0.00              NaN   \n",
       "285831220                  3.5               28.0   2.99              NaN   \n",
       "\n",
       "                                                 description  \\\n",
       "id                                                             \n",
       "284921427  Join over 21,000,000 of our fans and download ...   \n",
       "284926400  The classic game of Reversi, also known as Oth...   \n",
       "284946595  Play the classic strategy game Othello (also k...   \n",
       "285755462  Top 100 free app for over a year.\\nRated \"Best...   \n",
       "285831220  \"Senet Deluxe - The Ancient Game of Life and A...   \n",
       "\n",
       "                          developer age_rating  \\\n",
       "id                                               \n",
       "284921427  Mighty Mighty Good Games         4+   \n",
       "284926400          Kiss The Machine         4+   \n",
       "284946595               Bayou Games         4+   \n",
       "285755462  Mighty Mighty Good Games         4+   \n",
       "285831220           RoGame Software         4+   \n",
       "\n",
       "                                                   languages        size  \\\n",
       "id                                                                         \n",
       "284921427  DA, NL, EN, FI, FR, DE, IT, JA, KO, NB, PL, PT...  15853568.0   \n",
       "284926400                                                 EN  12328960.0   \n",
       "284946595                                                 EN    674816.0   \n",
       "285755462  DA, NL, EN, FI, FR, DE, IT, JA, KO, NB, PL, PT...  21552128.0   \n",
       "285831220  DA, NL, EN, FR, DE, EL, IT, JA, KO, NO, PT, RU...  34689024.0   \n",
       "\n",
       "          primary_genre                             genres  \\\n",
       "id                                                           \n",
       "284921427         Games            Games, Strategy, Puzzle   \n",
       "284926400         Games             Games, Strategy, Board   \n",
       "284946595         Games             Games, Board, Strategy   \n",
       "285755462         Games            Games, Strategy, Puzzle   \n",
       "285831220         Games  Games, Strategy, Board, Education   \n",
       "\n",
       "          original_release_date current_version_release_date  \n",
       "id                                                            \n",
       "284921427            11/07/2008                   30/05/2017  \n",
       "284926400            11/07/2008                   17/05/2018  \n",
       "284946595            11/07/2008                    5/09/2017  \n",
       "285755462            23/07/2008                   30/05/2017  \n",
       "285831220            18/07/2008                   22/07/2018  "
      ]
     },
     "execution_count": 8,
     "metadata": {},
     "output_type": "execute_result"
    }
   ],
   "source": [
    "# created dataframe index with initial id column\n",
    "games.set_index(keys = 'id', inplace = True)\n",
    "games.head()"
   ]
  },
  {
   "cell_type": "code",
   "execution_count": 9,
   "metadata": {},
   "outputs": [],
   "source": [
    "# Drop columns\n",
    "games.drop(columns = ['url', 'icon_url'], inplace = True)"
   ]
  },
  {
   "cell_type": "code",
   "execution_count": 10,
   "metadata": {},
   "outputs": [
    {
     "name": "stdout",
     "output_type": "stream",
     "text": [
      "<class 'pandas.core.frame.DataFrame'>\n",
      "Int64Index: 17007 entries, 284921427 to 1475076711\n",
      "Data columns (total 15 columns):\n",
      " #   Column                        Non-Null Count  Dtype  \n",
      "---  ------                        --------------  -----  \n",
      " 0   name                          17007 non-null  object \n",
      " 1   subtitle                      5261 non-null   object \n",
      " 2   average_user_rating           7561 non-null   float64\n",
      " 3   user_rating_count             7561 non-null   float64\n",
      " 4   price                         16983 non-null  float64\n",
      " 5   in-app_purchases              7683 non-null   object \n",
      " 6   description                   17007 non-null  object \n",
      " 7   developer                     17007 non-null  object \n",
      " 8   age_rating                    17007 non-null  object \n",
      " 9   languages                     16947 non-null  object \n",
      " 10  size                          17006 non-null  float64\n",
      " 11  primary_genre                 17007 non-null  object \n",
      " 12  genres                        17007 non-null  object \n",
      " 13  original_release_date         17007 non-null  object \n",
      " 14  current_version_release_date  17007 non-null  object \n",
      "dtypes: float64(4), object(11)\n",
      "memory usage: 2.1+ MB\n"
     ]
    }
   ],
   "source": [
    "# DataFrame info\n",
    "games.info()"
   ]
  },
  {
   "cell_type": "code",
   "execution_count": 12,
   "metadata": {},
   "outputs": [
    {
     "name": "stdout",
     "output_type": "stream",
     "text": [
      "<class 'pandas.core.frame.DataFrame'>\n",
      "Int64Index: 17007 entries, 284921427 to 1475076711\n",
      "Data columns (total 15 columns):\n",
      " #   Column                        Non-Null Count  Dtype         \n",
      "---  ------                        --------------  -----         \n",
      " 0   name                          17007 non-null  object        \n",
      " 1   subtitle                      5261 non-null   object        \n",
      " 2   average_user_rating           7561 non-null   float64       \n",
      " 3   user_rating_count             7561 non-null   float64       \n",
      " 4   price                         16983 non-null  float64       \n",
      " 5   in-app_purchases              7683 non-null   object        \n",
      " 6   description                   17007 non-null  object        \n",
      " 7   developer                     17007 non-null  object        \n",
      " 8   age_rating                    17007 non-null  object        \n",
      " 9   languages                     16947 non-null  object        \n",
      " 10  size                          17006 non-null  float64       \n",
      " 11  primary_genre                 17007 non-null  object        \n",
      " 12  genres                        17007 non-null  object        \n",
      " 13  original_release_date         17007 non-null  datetime64[ns]\n",
      " 14  current_version_release_date  17007 non-null  datetime64[ns]\n",
      "dtypes: datetime64[ns](2), float64(4), object(9)\n",
      "memory usage: 2.1+ MB\n"
     ]
    }
   ],
   "source": [
    "# Transform date columns from object type to datetime type\n",
    "games['original_release_date'] = pd.to_datetime\\\n",
    "                                 (games['original_release_date'])\n",
    "games['current_version_release_date'] =\\\n",
    "pd.to_datetime(games['current_version_release_date'])\n",
    "games.info()"
   ]
  },
  {
   "cell_type": "code",
   "execution_count": 13,
   "metadata": {},
   "outputs": [
    {
     "data": {
      "text/plain": [
       "name                                0\n",
       "subtitle                        11746\n",
       "average_user_rating              9446\n",
       "user_rating_count                9446\n",
       "price                              24\n",
       "in-app_purchases                 9324\n",
       "description                         0\n",
       "developer                           0\n",
       "age_rating                          0\n",
       "languages                          60\n",
       "size                                1\n",
       "primary_genre                       0\n",
       "genres                              0\n",
       "original_release_date               0\n",
       "current_version_release_date        0\n",
       "dtype: int64"
      ]
     },
     "execution_count": 13,
     "metadata": {},
     "output_type": "execute_result"
    }
   ],
   "source": [
    "# check for missing values\n",
    "games.isnull().sum()"
   ]
  },
  {
   "cell_type": "code",
   "execution_count": 14,
   "metadata": {},
   "outputs": [],
   "source": [
    "# Elminate lines where 'average_user_rating' has no data\n",
    "# i.e., keep lines where 'average_user_rating' is notnull\n",
    "\n",
    "games = games.loc[games['average_user_rating'].notnull()]"
   ]
  },
  {
   "cell_type": "code",
   "execution_count": 15,
   "metadata": {},
   "outputs": [
    {
     "data": {
      "text/plain": [
       "(4311, 15)"
      ]
     },
     "execution_count": 15,
     "metadata": {},
     "output_type": "execute_result"
    }
   ],
   "source": [
    "# Keep only those with more than 30 user ratings\n",
    "games = games.loc[games['user_rating_count'] >= 30]\n",
    "games.shape"
   ]
  },
  {
   "cell_type": "code",
   "execution_count": 16,
   "metadata": {},
   "outputs": [
    {
     "data": {
      "text/plain": [
       "name                               0\n",
       "subtitle                        2523\n",
       "average_user_rating                0\n",
       "user_rating_count                  0\n",
       "price                              0\n",
       "in-app_purchases                1313\n",
       "description                        0\n",
       "developer                          0\n",
       "age_rating                         0\n",
       "languages                         14\n",
       "size                               0\n",
       "primary_genre                      0\n",
       "genres                             0\n",
       "original_release_date              0\n",
       "current_version_release_date       0\n",
       "dtype: int64"
      ]
     },
     "execution_count": 16,
     "metadata": {},
     "output_type": "execute_result"
    }
   ],
   "source": [
    "games.isnull().sum()"
   ]
  },
  {
   "cell_type": "code",
   "execution_count": 17,
   "metadata": {},
   "outputs": [
    {
     "data": {
      "text/plain": [
       "id\n",
       "284921427    DA, NL, EN, FI, FR, DE, IT, JA, KO, NB, PL, PT...\n",
       "284926400                                                   EN\n",
       "284946595                                                   EN\n",
       "285755462    DA, NL, EN, FI, FR, DE, IT, JA, KO, NB, PL, PT...\n",
       "286210009                                                   EN\n",
       "Name: languages, dtype: object"
      ]
     },
     "execution_count": 17,
     "metadata": {},
     "output_type": "execute_result"
    }
   ],
   "source": [
    "## Transform String column into Numerical column\n",
    "\n",
    "# 'languages' column contains a string of language abbreviations\n",
    "games2 = games.copy()\n",
    "games2['languages'].head()"
   ]
  },
  {
   "cell_type": "code",
   "execution_count": 18,
   "metadata": {},
   "outputs": [],
   "source": [
    "# replace missing values with EN (English)\n",
    "games2['languages'] = games2['languages'].fillna('EN')"
   ]
  },
  {
   "cell_type": "code",
   "execution_count": 21,
   "metadata": {},
   "outputs": [],
   "source": [
    "# get a list of the different languages\n",
    "list_of_languages = games2['languages'].str.split(',')"
   ]
  },
  {
   "cell_type": "code",
   "execution_count": 24,
   "metadata": {},
   "outputs": [
    {
     "data": {
      "text/plain": [
       "id\n",
       "284921427     17\n",
       "284926400      1\n",
       "284946595      1\n",
       "285755462     17\n",
       "286210009      1\n",
       "              ..\n",
       "1471336822     1\n",
       "1471595571     1\n",
       "1473181500     1\n",
       "1473559573     1\n",
       "1474461379     1\n",
       "Name: n_languages, Length: 4311, dtype: int64"
      ]
     },
     "execution_count": 24,
     "metadata": {},
     "output_type": "execute_result"
    }
   ],
   "source": [
    "# column with the number of languages\n",
    "games2['n_languages'] = list_of_languages.apply(lambda x: len(x))\n",
    "games2['n_languages']"
   ]
  },
  {
   "cell_type": "code",
   "execution_count": 37,
   "metadata": {
    "scrolled": true
   },
   "outputs": [],
   "source": [
    "#Save revised dataframes as .csv files\n",
    "import numpy as np\n",
    "games.to_csv(r'appstore_games1.csv', index = False)\n",
    "games2.to_csv(r'appstore_games2.csv', index = False)"
   ]
  },
  {
   "cell_type": "code",
   "execution_count": 38,
   "metadata": {},
   "outputs": [],
   "source": [
    "#Save array as .csv files\n",
    "import numpy as np\n",
    "a = np.asarray([ [1,2,3], [4,5,6], [7,8,9] ])\n",
    "a.tofile('foo.csv',sep=',',format='%10.5f')"
   ]
  },
  {
   "cell_type": "code",
   "execution_count": null,
   "metadata": {},
   "outputs": [],
   "source": []
  }
 ],
 "metadata": {
  "kernelspec": {
   "display_name": "Python 3",
   "language": "python",
   "name": "python3"
  },
  "language_info": {
   "codemirror_mode": {
    "name": "ipython",
    "version": 3
   },
   "file_extension": ".py",
   "mimetype": "text/x-python",
   "name": "python",
   "nbconvert_exporter": "python",
   "pygments_lexer": "ipython3",
   "version": "3.8.5"
  }
 },
 "nbformat": 4,
 "nbformat_minor": 4
}
