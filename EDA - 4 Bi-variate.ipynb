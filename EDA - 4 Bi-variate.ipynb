{
 "cells": [
  {
   "cell_type": "code",
   "execution_count": 1,
   "metadata": {},
   "outputs": [],
   "source": [
    "# Exploratory Data Analysis\n",
    "# Bi-variate Data Analysis\n",
    "\n",
    "# Exploratory Data Analysis Purpose:\n",
    "# • Understanding the distributions of the variables\n",
    "# • Understanding the relationships between two or more variables\n",
    "# • Detecting patterns that can't be found using numerical calculations\n",
    "# • Spotting anomalies or outliers in the data\n",
    "# • Formulating a hypothesis about causal relationships\n",
    "# • Informing us about how to engineer new variables (feature engineering)\n",
    "# • Informing us about possible formal inferential statistical tests"
   ]
  },
  {
   "cell_type": "code",
   "execution_count": 2,
   "metadata": {},
   "outputs": [
    {
     "name": "stdout",
     "output_type": "stream",
     "text": [
      "C:\\Users\\jwill\\Documents\\Machine Learning\\Data\n"
     ]
    }
   ],
   "source": [
    "import pandas as pd\n",
    "import numpy as np\n",
    "import matplotlib.pyplot as plt\n",
    "import seaborn as sns\n",
    "%cd \"C:\\Users\\jwill\\Documents\\Machine Learning\\Data\""
   ]
  },
  {
   "cell_type": "code",
   "execution_count": 3,
   "metadata": {},
   "outputs": [],
   "source": [
    "# load data\n",
    "games = pd.read_csv('appstore_games2.csv')"
   ]
  },
  {
   "cell_type": "code",
   "execution_count": 4,
   "metadata": {},
   "outputs": [
    {
     "data": {
      "image/png": "[encoded data removed]",
      "text/plain": [
       "<Figure size 432x288 with 1 Axes>"
      ]
     },
     "metadata": {
      "needs_background": "light"
     },
     "output_type": "display_data"
    }
   ],
   "source": [
    "# Scatterplots\n",
    "\n",
    "#size vs rating scatterplot\n",
    "sns.scatterplot(x='size', y='average_user_rating',\\\n",
    "                data=games, \\\n",
    "                # this is for controlling the size of the points\n",
    "                s=20);"
   ]
  },
  {
   "cell_type": "code",
   "execution_count": 9,
   "metadata": {},
   "outputs": [],
   "source": [
    "# created a new average user rating scale that uses categorical variables\n",
    "ratings_mapping = {1.5: '1_poor', 2.: '1_poor',\\\n",
    "                   2.5: '1_poor', 3: '1_poor',\\\n",
    "                   3.5: '2_fair', 4. : '2_fair',\\\n",
    "                   4.5: '3_good',5. : '4_excellent'}\n",
    "games['cat_rating'] = games['average_user_rating']\\\n",
    "                      .map(ratings_mapping)"
   ]
  },
  {
   "cell_type": "code",
   "execution_count": 10,
   "metadata": {},
   "outputs": [
    {
     "data": {
      "text/plain": [
       "0            2_fair\n",
       "1            2_fair\n",
       "2            1_poor\n",
       "3            2_fair\n",
       "4            1_poor\n",
       "           ...     \n",
       "4306    4_excellent\n",
       "4307         3_good\n",
       "4308    4_excellent\n",
       "4309    4_excellent\n",
       "4310    4_excellent\n",
       "Name: cat_rating, Length: 4311, dtype: object"
      ]
     },
     "execution_count": 10,
     "metadata": {},
     "output_type": "execute_result"
    }
   ],
   "source": [
    "games['cat_rating']"
   ]
  },
  {
   "cell_type": "code",
   "execution_count": 19,
   "metadata": {},
   "outputs": [
    {
     "data": {
      "image/png": "[encoded data removed]",
      "text/plain": [
       "<Figure size 432x288 with 1 Axes>"
      ]
     },
     "metadata": {
      "needs_background": "light"
     },
     "output_type": "display_data"
    }
   ],
   "source": [
    "# box plot for ratings\n",
    "sns.boxplot(x='cat_rating', y='price', \\\n",
    "            data=games[games['price'] <= 6000], \\\n",
    "            order=['1_poor', '2_fair', '3_good', '4_excellent']);"
   ]
  },
  {
   "cell_type": "code",
   "execution_count": 22,
   "metadata": {},
   "outputs": [
    {
     "data": {
      "image/png": "[encoded data removed]",
      "text/plain": [
       "<Figure size 432x288 with 1 Axes>"
      ]
     },
     "metadata": {
      "needs_background": "light"
     },
     "output_type": "display_data"
    }
   ],
   "source": [
    "games['size'].plot(kind='box');"
   ]
  },
  {
   "cell_type": "code",
   "execution_count": 23,
   "metadata": {},
   "outputs": [
    {
     "data": {
      "text/html": [
       "<div>\n",
       "<style scoped>\n",
       "    .dataframe tbody tr th:only-of-type {\n",
       "        vertical-align: middle;\n",
       "    }\n",
       "\n",
       "    .dataframe tbody tr th {\n",
       "        vertical-align: top;\n",
       "    }\n",
       "\n",
       "    .dataframe thead th {\n",
       "        text-align: right;\n",
       "    }\n",
       "</style>\n",
       "<table border=\"1\" class=\"dataframe\">\n",
       "  <thead>\n",
       "    <tr style=\"text-align: right;\">\n",
       "      <th>cat_rating</th>\n",
       "      <th>1_poor</th>\n",
       "      <th>2_fair</th>\n",
       "      <th>3_good</th>\n",
       "      <th>4_excellent</th>\n",
       "    </tr>\n",
       "    <tr>\n",
       "      <th>age_rating</th>\n",
       "      <th></th>\n",
       "      <th></th>\n",
       "      <th></th>\n",
       "      <th></th>\n",
       "    </tr>\n",
       "  </thead>\n",
       "  <tbody>\n",
       "    <tr>\n",
       "      <th>12+</th>\n",
       "      <td>57</td>\n",
       "      <td>327</td>\n",
       "      <td>466</td>\n",
       "      <td>75</td>\n",
       "    </tr>\n",
       "    <tr>\n",
       "      <th>17+</th>\n",
       "      <td>11</td>\n",
       "      <td>59</td>\n",
       "      <td>68</td>\n",
       "      <td>13</td>\n",
       "    </tr>\n",
       "    <tr>\n",
       "      <th>4+</th>\n",
       "      <td>238</td>\n",
       "      <td>821</td>\n",
       "      <td>1029</td>\n",
       "      <td>199</td>\n",
       "    </tr>\n",
       "    <tr>\n",
       "      <th>9+</th>\n",
       "      <td>57</td>\n",
       "      <td>309</td>\n",
       "      <td>499</td>\n",
       "      <td>83</td>\n",
       "    </tr>\n",
       "  </tbody>\n",
       "</table>\n",
       "</div>"
      ],
      "text/plain": [
       "cat_rating  1_poor  2_fair  3_good  4_excellent\n",
       "age_rating                                     \n",
       "12+             57     327     466           75\n",
       "17+             11      59      68           13\n",
       "4+             238     821    1029          199\n",
       "9+              57     309     499           83"
      ]
     },
     "execution_count": 23,
     "metadata": {},
     "output_type": "execute_result"
    }
   ],
   "source": [
    "# Contingency Table / Cross Tab\n",
    "#  counts how many observations we have in each combination of the values of our two variables\n",
    "pd.crosstab(games['age_rating'], games['cat_rating'])"
   ]
  },
  {
   "cell_type": "code",
   "execution_count": 24,
   "metadata": {},
   "outputs": [
    {
     "data": {
      "text/html": [
       "<div>\n",
       "<style scoped>\n",
       "    .dataframe tbody tr th:only-of-type {\n",
       "        vertical-align: middle;\n",
       "    }\n",
       "\n",
       "    .dataframe tbody tr th {\n",
       "        vertical-align: top;\n",
       "    }\n",
       "\n",
       "    .dataframe thead th {\n",
       "        text-align: right;\n",
       "    }\n",
       "</style>\n",
       "<table border=\"1\" class=\"dataframe\">\n",
       "  <thead>\n",
       "    <tr style=\"text-align: right;\">\n",
       "      <th>cat_rating</th>\n",
       "      <th>1_poor</th>\n",
       "      <th>2_fair</th>\n",
       "      <th>3_good</th>\n",
       "      <th>4_excellent</th>\n",
       "    </tr>\n",
       "    <tr>\n",
       "      <th>age_rating</th>\n",
       "      <th></th>\n",
       "      <th></th>\n",
       "      <th></th>\n",
       "      <th></th>\n",
       "    </tr>\n",
       "  </thead>\n",
       "  <tbody>\n",
       "    <tr>\n",
       "      <th>12+</th>\n",
       "      <td>6.162162</td>\n",
       "      <td>35.351351</td>\n",
       "      <td>50.378378</td>\n",
       "      <td>8.108108</td>\n",
       "    </tr>\n",
       "    <tr>\n",
       "      <th>17+</th>\n",
       "      <td>7.284768</td>\n",
       "      <td>39.072848</td>\n",
       "      <td>45.033113</td>\n",
       "      <td>8.609272</td>\n",
       "    </tr>\n",
       "    <tr>\n",
       "      <th>4+</th>\n",
       "      <td>10.406646</td>\n",
       "      <td>35.898557</td>\n",
       "      <td>44.993441</td>\n",
       "      <td>8.701355</td>\n",
       "    </tr>\n",
       "    <tr>\n",
       "      <th>9+</th>\n",
       "      <td>6.012658</td>\n",
       "      <td>32.594937</td>\n",
       "      <td>52.637131</td>\n",
       "      <td>8.755274</td>\n",
       "    </tr>\n",
       "  </tbody>\n",
       "</table>\n",
       "</div>"
      ],
      "text/plain": [
       "cat_rating     1_poor     2_fair     3_good  4_excellent\n",
       "age_rating                                              \n",
       "12+          6.162162  35.351351  50.378378     8.108108\n",
       "17+          7.284768  39.072848  45.033113     8.609272\n",
       "4+          10.406646  35.898557  44.993441     8.701355\n",
       "9+           6.012658  32.594937  52.637131     8.755274"
      ]
     },
     "execution_count": 24,
     "metadata": {},
     "output_type": "execute_result"
    }
   ],
   "source": [
    "# Normalize to show percentages\n",
    "100*pd.crosstab(games['age_rating'],\\\n",
    "                games['cat_rating'], \\\n",
    "                normalize='index')"
   ]
  },
  {
   "cell_type": "code",
   "execution_count": 25,
   "metadata": {},
   "outputs": [
    {
     "data": {
      "text/plain": [
       "array([  2.99,   1.99,   0.  ,   0.99,   5.99,   7.99,   4.99,   3.99,\n",
       "         9.99,  19.99,   6.99,  11.99,   8.99, 139.99,  14.99,  59.99])"
      ]
     },
     "execution_count": 25,
     "metadata": {},
     "output_type": "execute_result"
    }
   ],
   "source": [
    "# Exercise/Example 7.03\n",
    "\n",
    "# list all the unique values for price\n",
    "games['price'].unique()"
   ]
  },
  {
   "cell_type": "code",
   "execution_count": 27,
   "metadata": {},
   "outputs": [
    {
     "data": {
      "text/plain": [
       "array([  3.,   2.,   0.,   1.,   6.,   8.,   5.,   4.,  10.,  20.,   7.,\n",
       "        12.,   9., 140.,  15.,  60.])"
      ]
     },
     "execution_count": 27,
     "metadata": {},
     "output_type": "execute_result"
    }
   ],
   "source": [
    "# round the numbers (e.g., 2.99 becomes 3)\n",
    "games['price'] = games['price'].round()\n",
    "games['price'].unique()"
   ]
  },
  {
   "cell_type": "code",
   "execution_count": 28,
   "metadata": {},
   "outputs": [
    {
     "data": {
      "image/png": "[encoded data removed]",
      "text/plain": [
       "<Figure size 432x288 with 1 Axes>"
      ]
     },
     "metadata": {
      "needs_background": "light"
     },
     "output_type": "display_data"
    }
   ],
   "source": [
    "games['price'].value_counts().sort_index().plot(kind='bar');"
   ]
  },
  {
   "cell_type": "code",
   "execution_count": 29,
   "metadata": {},
   "outputs": [],
   "source": [
    "# create catagories 'free' and 'paid'\n",
    "games['cat_price'] = (games['price'] == 0).astype(int)\\\n",
    "                      .map({0:'paid', 1:'free'})"
   ]
  },
  {
   "cell_type": "code",
   "execution_count": 30,
   "metadata": {},
   "outputs": [
    {
     "data": {
      "image/png": "[encoded data removed]",
      "text/plain": [
       "<Figure size 432x288 with 1 Axes>"
      ]
     },
     "metadata": {
      "needs_background": "light"
     },
     "output_type": "display_data"
    }
   ],
   "source": [
    "sns.boxplot(x='cat_price', y='average_user_rating', \\\n",
    "            data=games);"
   ]
  },
  {
   "cell_type": "code",
   "execution_count": null,
   "metadata": {},
   "outputs": [],
   "source": []
  }
 ],
 "metadata": {
  "kernelspec": {
   "display_name": "Python 3",
   "language": "python",
   "name": "python3"
  },
  "language_info": {
   "codemirror_mode": {
    "name": "ipython",
    "version": 3
   },
   "file_extension": ".py",
   "mimetype": "text/x-python",
   "name": "python",
   "nbconvert_exporter": "python",
   "pygments_lexer": "ipython3",
   "version": "3.8.5"
  }
 },
 "nbformat": 4,
 "nbformat_minor": 4
}
